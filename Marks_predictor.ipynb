{
  "nbformat": 4,
  "nbformat_minor": 0,
  "metadata": {
    "colab": {
      "provenance": [],
      "include_colab_link": true
    },
    "kernelspec": {
      "name": "python3",
      "display_name": "Python 3"
    },
    "language_info": {
      "name": "python"
    }
  },
  "cells": [
    {
      "cell_type": "markdown",
      "metadata": {
        "id": "view-in-github",
        "colab_type": "text"
      },
      "source": [
        "<a href=\"https://colab.research.google.com/github/HarmanSaluja20/Marks-Predictor/blob/main/Marks_predictor.ipynb\" target=\"_parent\"><img src=\"https://colab.research.google.com/assets/colab-badge.svg\" alt=\"Open In Colab\"/></a>"
      ]
    },
    {
      "cell_type": "code",
      "execution_count": 81,
      "metadata": {
        "id": "VpGXe6YbzD4I"
      },
      "outputs": [],
      "source": [
        "import pandas as pd"
      ]
    },
    {
      "cell_type": "code",
      "source": [
        "data = pd.read_csv(\"Student_Performance.csv\")"
      ],
      "metadata": {
        "id": "ilLrreBczQtF"
      },
      "execution_count": 82,
      "outputs": []
    },
    {
      "cell_type": "code",
      "source": [
        "data\n"
      ],
      "metadata": {
        "id": "_-P6w-_XzXwV",
        "colab": {
          "base_uri": "https://localhost:8080/",
          "height": 423
        },
        "outputId": "d48cc555-7b91-493f-9efc-58907b04ca55"
      },
      "execution_count": 83,
      "outputs": [
        {
          "output_type": "execute_result",
          "data": {
            "text/plain": [
              "      Hours Studied  Previous Scores Extracurricular Activities  Sleep Hours  \\\n",
              "0                 7               99                        Yes            9   \n",
              "1                 4               82                         No            4   \n",
              "2                 8               51                        Yes            7   \n",
              "3                 5               52                        Yes            5   \n",
              "4                 7               75                         No            8   \n",
              "...             ...              ...                        ...          ...   \n",
              "9995              1               49                        Yes            4   \n",
              "9996              7               64                        Yes            8   \n",
              "9997              6               83                        Yes            8   \n",
              "9998              9               97                        Yes            7   \n",
              "9999              7               74                         No            8   \n",
              "\n",
              "      Sample Question Papers Practiced  Performance Index  \n",
              "0                                    1               91.0  \n",
              "1                                    2               65.0  \n",
              "2                                    2               45.0  \n",
              "3                                    2               36.0  \n",
              "4                                    5               66.0  \n",
              "...                                ...                ...  \n",
              "9995                                 2               23.0  \n",
              "9996                                 5               58.0  \n",
              "9997                                 5               74.0  \n",
              "9998                                 0               95.0  \n",
              "9999                                 1               64.0  \n",
              "\n",
              "[10000 rows x 6 columns]"
            ],
            "text/html": [
              "\n",
              "\n",
              "  <div id=\"df-ddf95001-d9e1-444f-a501-6eb8ebb32582\">\n",
              "    <div class=\"colab-df-container\">\n",
              "      <div>\n",
              "<style scoped>\n",
              "    .dataframe tbody tr th:only-of-type {\n",
              "        vertical-align: middle;\n",
              "    }\n",
              "\n",
              "    .dataframe tbody tr th {\n",
              "        vertical-align: top;\n",
              "    }\n",
              "\n",
              "    .dataframe thead th {\n",
              "        text-align: right;\n",
              "    }\n",
              "</style>\n",
              "<table border=\"1\" class=\"dataframe\">\n",
              "  <thead>\n",
              "    <tr style=\"text-align: right;\">\n",
              "      <th></th>\n",
              "      <th>Hours Studied</th>\n",
              "      <th>Previous Scores</th>\n",
              "      <th>Extracurricular Activities</th>\n",
              "      <th>Sleep Hours</th>\n",
              "      <th>Sample Question Papers Practiced</th>\n",
              "      <th>Performance Index</th>\n",
              "    </tr>\n",
              "  </thead>\n",
              "  <tbody>\n",
              "    <tr>\n",
              "      <th>0</th>\n",
              "      <td>7</td>\n",
              "      <td>99</td>\n",
              "      <td>Yes</td>\n",
              "      <td>9</td>\n",
              "      <td>1</td>\n",
              "      <td>91.0</td>\n",
              "    </tr>\n",
              "    <tr>\n",
              "      <th>1</th>\n",
              "      <td>4</td>\n",
              "      <td>82</td>\n",
              "      <td>No</td>\n",
              "      <td>4</td>\n",
              "      <td>2</td>\n",
              "      <td>65.0</td>\n",
              "    </tr>\n",
              "    <tr>\n",
              "      <th>2</th>\n",
              "      <td>8</td>\n",
              "      <td>51</td>\n",
              "      <td>Yes</td>\n",
              "      <td>7</td>\n",
              "      <td>2</td>\n",
              "      <td>45.0</td>\n",
              "    </tr>\n",
              "    <tr>\n",
              "      <th>3</th>\n",
              "      <td>5</td>\n",
              "      <td>52</td>\n",
              "      <td>Yes</td>\n",
              "      <td>5</td>\n",
              "      <td>2</td>\n",
              "      <td>36.0</td>\n",
              "    </tr>\n",
              "    <tr>\n",
              "      <th>4</th>\n",
              "      <td>7</td>\n",
              "      <td>75</td>\n",
              "      <td>No</td>\n",
              "      <td>8</td>\n",
              "      <td>5</td>\n",
              "      <td>66.0</td>\n",
              "    </tr>\n",
              "    <tr>\n",
              "      <th>...</th>\n",
              "      <td>...</td>\n",
              "      <td>...</td>\n",
              "      <td>...</td>\n",
              "      <td>...</td>\n",
              "      <td>...</td>\n",
              "      <td>...</td>\n",
              "    </tr>\n",
              "    <tr>\n",
              "      <th>9995</th>\n",
              "      <td>1</td>\n",
              "      <td>49</td>\n",
              "      <td>Yes</td>\n",
              "      <td>4</td>\n",
              "      <td>2</td>\n",
              "      <td>23.0</td>\n",
              "    </tr>\n",
              "    <tr>\n",
              "      <th>9996</th>\n",
              "      <td>7</td>\n",
              "      <td>64</td>\n",
              "      <td>Yes</td>\n",
              "      <td>8</td>\n",
              "      <td>5</td>\n",
              "      <td>58.0</td>\n",
              "    </tr>\n",
              "    <tr>\n",
              "      <th>9997</th>\n",
              "      <td>6</td>\n",
              "      <td>83</td>\n",
              "      <td>Yes</td>\n",
              "      <td>8</td>\n",
              "      <td>5</td>\n",
              "      <td>74.0</td>\n",
              "    </tr>\n",
              "    <tr>\n",
              "      <th>9998</th>\n",
              "      <td>9</td>\n",
              "      <td>97</td>\n",
              "      <td>Yes</td>\n",
              "      <td>7</td>\n",
              "      <td>0</td>\n",
              "      <td>95.0</td>\n",
              "    </tr>\n",
              "    <tr>\n",
              "      <th>9999</th>\n",
              "      <td>7</td>\n",
              "      <td>74</td>\n",
              "      <td>No</td>\n",
              "      <td>8</td>\n",
              "      <td>1</td>\n",
              "      <td>64.0</td>\n",
              "    </tr>\n",
              "  </tbody>\n",
              "</table>\n",
              "<p>10000 rows × 6 columns</p>\n",
              "</div>\n",
              "      <button class=\"colab-df-convert\" onclick=\"convertToInteractive('df-ddf95001-d9e1-444f-a501-6eb8ebb32582')\"\n",
              "              title=\"Convert this dataframe to an interactive table.\"\n",
              "              style=\"display:none;\">\n",
              "\n",
              "  <svg xmlns=\"http://www.w3.org/2000/svg\" height=\"24px\"viewBox=\"0 0 24 24\"\n",
              "       width=\"24px\">\n",
              "    <path d=\"M0 0h24v24H0V0z\" fill=\"none\"/>\n",
              "    <path d=\"M18.56 5.44l.94 2.06.94-2.06 2.06-.94-2.06-.94-.94-2.06-.94 2.06-2.06.94zm-11 1L8.5 8.5l.94-2.06 2.06-.94-2.06-.94L8.5 2.5l-.94 2.06-2.06.94zm10 10l.94 2.06.94-2.06 2.06-.94-2.06-.94-.94-2.06-.94 2.06-2.06.94z\"/><path d=\"M17.41 7.96l-1.37-1.37c-.4-.4-.92-.59-1.43-.59-.52 0-1.04.2-1.43.59L10.3 9.45l-7.72 7.72c-.78.78-.78 2.05 0 2.83L4 21.41c.39.39.9.59 1.41.59.51 0 1.02-.2 1.41-.59l7.78-7.78 2.81-2.81c.8-.78.8-2.07 0-2.86zM5.41 20L4 18.59l7.72-7.72 1.47 1.35L5.41 20z\"/>\n",
              "  </svg>\n",
              "      </button>\n",
              "\n",
              "\n",
              "\n",
              "    <div id=\"df-85e49a61-f169-4563-a45d-701b8af3dbe6\">\n",
              "      <button class=\"colab-df-quickchart\" onclick=\"quickchart('df-85e49a61-f169-4563-a45d-701b8af3dbe6')\"\n",
              "              title=\"Suggest charts.\"\n",
              "              style=\"display:none;\">\n",
              "\n",
              "<svg xmlns=\"http://www.w3.org/2000/svg\" height=\"24px\"viewBox=\"0 0 24 24\"\n",
              "     width=\"24px\">\n",
              "    <g>\n",
              "        <path d=\"M19 3H5c-1.1 0-2 .9-2 2v14c0 1.1.9 2 2 2h14c1.1 0 2-.9 2-2V5c0-1.1-.9-2-2-2zM9 17H7v-7h2v7zm4 0h-2V7h2v10zm4 0h-2v-4h2v4z\"/>\n",
              "    </g>\n",
              "</svg>\n",
              "      </button>\n",
              "    </div>\n",
              "\n",
              "<style>\n",
              "  .colab-df-quickchart {\n",
              "    background-color: #E8F0FE;\n",
              "    border: none;\n",
              "    border-radius: 50%;\n",
              "    cursor: pointer;\n",
              "    display: none;\n",
              "    fill: #1967D2;\n",
              "    height: 32px;\n",
              "    padding: 0 0 0 0;\n",
              "    width: 32px;\n",
              "  }\n",
              "\n",
              "  .colab-df-quickchart:hover {\n",
              "    background-color: #E2EBFA;\n",
              "    box-shadow: 0px 1px 2px rgba(60, 64, 67, 0.3), 0px 1px 3px 1px rgba(60, 64, 67, 0.15);\n",
              "    fill: #174EA6;\n",
              "  }\n",
              "\n",
              "  [theme=dark] .colab-df-quickchart {\n",
              "    background-color: #3B4455;\n",
              "    fill: #D2E3FC;\n",
              "  }\n",
              "\n",
              "  [theme=dark] .colab-df-quickchart:hover {\n",
              "    background-color: #434B5C;\n",
              "    box-shadow: 0px 1px 3px 1px rgba(0, 0, 0, 0.15);\n",
              "    filter: drop-shadow(0px 1px 2px rgba(0, 0, 0, 0.3));\n",
              "    fill: #FFFFFF;\n",
              "  }\n",
              "</style>\n",
              "\n",
              "    <script>\n",
              "      async function quickchart(key) {\n",
              "        const containerElement = document.querySelector('#' + key);\n",
              "        const charts = await google.colab.kernel.invokeFunction(\n",
              "            'suggestCharts', [key], {});\n",
              "      }\n",
              "    </script>\n",
              "\n",
              "      <script>\n",
              "\n",
              "function displayQuickchartButton(domScope) {\n",
              "  let quickchartButtonEl =\n",
              "    domScope.querySelector('#df-85e49a61-f169-4563-a45d-701b8af3dbe6 button.colab-df-quickchart');\n",
              "  quickchartButtonEl.style.display =\n",
              "    google.colab.kernel.accessAllowed ? 'block' : 'none';\n",
              "}\n",
              "\n",
              "        displayQuickchartButton(document);\n",
              "      </script>\n",
              "      <style>\n",
              "    .colab-df-container {\n",
              "      display:flex;\n",
              "      flex-wrap:wrap;\n",
              "      gap: 12px;\n",
              "    }\n",
              "\n",
              "    .colab-df-convert {\n",
              "      background-color: #E8F0FE;\n",
              "      border: none;\n",
              "      border-radius: 50%;\n",
              "      cursor: pointer;\n",
              "      display: none;\n",
              "      fill: #1967D2;\n",
              "      height: 32px;\n",
              "      padding: 0 0 0 0;\n",
              "      width: 32px;\n",
              "    }\n",
              "\n",
              "    .colab-df-convert:hover {\n",
              "      background-color: #E2EBFA;\n",
              "      box-shadow: 0px 1px 2px rgba(60, 64, 67, 0.3), 0px 1px 3px 1px rgba(60, 64, 67, 0.15);\n",
              "      fill: #174EA6;\n",
              "    }\n",
              "\n",
              "    [theme=dark] .colab-df-convert {\n",
              "      background-color: #3B4455;\n",
              "      fill: #D2E3FC;\n",
              "    }\n",
              "\n",
              "    [theme=dark] .colab-df-convert:hover {\n",
              "      background-color: #434B5C;\n",
              "      box-shadow: 0px 1px 3px 1px rgba(0, 0, 0, 0.15);\n",
              "      filter: drop-shadow(0px 1px 2px rgba(0, 0, 0, 0.3));\n",
              "      fill: #FFFFFF;\n",
              "    }\n",
              "  </style>\n",
              "\n",
              "      <script>\n",
              "        const buttonEl =\n",
              "          document.querySelector('#df-ddf95001-d9e1-444f-a501-6eb8ebb32582 button.colab-df-convert');\n",
              "        buttonEl.style.display =\n",
              "          google.colab.kernel.accessAllowed ? 'block' : 'none';\n",
              "\n",
              "        async function convertToInteractive(key) {\n",
              "          const element = document.querySelector('#df-ddf95001-d9e1-444f-a501-6eb8ebb32582');\n",
              "          const dataTable =\n",
              "            await google.colab.kernel.invokeFunction('convertToInteractive',\n",
              "                                                     [key], {});\n",
              "          if (!dataTable) return;\n",
              "\n",
              "          const docLinkHtml = 'Like what you see? Visit the ' +\n",
              "            '<a target=\"_blank\" href=https://colab.research.google.com/notebooks/data_table.ipynb>data table notebook</a>'\n",
              "            + ' to learn more about interactive tables.';\n",
              "          element.innerHTML = '';\n",
              "          dataTable['output_type'] = 'display_data';\n",
              "          await google.colab.output.renderOutput(dataTable, element);\n",
              "          const docLink = document.createElement('div');\n",
              "          docLink.innerHTML = docLinkHtml;\n",
              "          element.appendChild(docLink);\n",
              "        }\n",
              "      </script>\n",
              "    </div>\n",
              "  </div>\n"
            ]
          },
          "metadata": {},
          "execution_count": 83
        }
      ]
    },
    {
      "cell_type": "code",
      "source": [
        "data.corr()[\"Performance Index\"]"
      ],
      "metadata": {
        "id": "vb9a0IHLJwfQ",
        "colab": {
          "base_uri": "https://localhost:8080/"
        },
        "outputId": "f4a1f818-0939-4e83-9fef-1d7b583dd961"
      },
      "execution_count": 80,
      "outputs": [
        {
          "output_type": "stream",
          "name": "stderr",
          "text": [
            "<ipython-input-80-a203ade7b22c>:1: FutureWarning: The default value of numeric_only in DataFrame.corr is deprecated. In a future version, it will default to False. Select only valid columns or specify the value of numeric_only to silence this warning.\n",
            "  data.corr()[\"Performance Index\"]\n"
          ]
        },
        {
          "output_type": "execute_result",
          "data": {
            "text/plain": [
              "Hours Studied                       0.373730\n",
              "Previous Scores                     0.915189\n",
              "Sleep Hours                         0.048106\n",
              "Sample Question Papers Practiced    0.043268\n",
              "Performance Index                   1.000000\n",
              "Name: Performance Index, dtype: float64"
            ]
          },
          "metadata": {},
          "execution_count": 80
        }
      ]
    },
    {
      "cell_type": "code",
      "source": [
        "import seaborn as seas"
      ],
      "metadata": {
        "id": "VOR_FVGFJ4Ji"
      },
      "execution_count": 84,
      "outputs": []
    },
    {
      "cell_type": "code",
      "source": [
        "seas.lmplot(x=\"Previous Scores\", y=\"Performance Index\",data=data,fit_reg=True, ci=None)"
      ],
      "metadata": {
        "id": "wYzVzgbxJ-Lf",
        "colab": {
          "base_uri": "https://localhost:8080/",
          "height": 523
        },
        "outputId": "098ef4ca-15e0-4b98-bf38-ce4501dec5d4"
      },
      "execution_count": 85,
      "outputs": [
        {
          "output_type": "execute_result",
          "data": {
            "text/plain": [
              "<seaborn.axisgrid.FacetGrid at 0x7d014889f040>"
            ]
          },
          "metadata": {},
          "execution_count": 85
        },
        {
          "output_type": "display_data",
          "data": {
            "text/plain": [
              "<Figure size 500x500 with 1 Axes>"
            ],
            "image/png": "[encoded data removed]"
          },
          "metadata": {}
        }
      ]
    },
    {
      "cell_type": "code",
      "source": [
        "data.plot.hist(y=\"Performance Index\")"
      ],
      "metadata": {
        "id": "L_P-GFylKs7_",
        "colab": {
          "base_uri": "https://localhost:8080/",
          "height": 447
        },
        "outputId": "5d3713b8-0fd3-43c1-d15b-a4eaac750080"
      },
      "execution_count": 86,
      "outputs": [
        {
          "output_type": "execute_result",
          "data": {
            "text/plain": [
              "<Axes: ylabel='Frequency'>"
            ]
          },
          "metadata": {},
          "execution_count": 86
        },
        {
          "output_type": "display_data",
          "data": {
            "text/plain": [
              "<Figure size 640x480 with 1 Axes>"
            ],
            "image/png": "[encoded data removed]"
          },
          "metadata": {}
        }
      ]
    },
    {
      "cell_type": "code",
      "source": [
        "data[data.isnull().any(axis=1)]"
      ],
      "metadata": {
        "id": "XlD7H2_sMrHK",
        "colab": {
          "base_uri": "https://localhost:8080/",
          "height": 49
        },
        "outputId": "1130f086-8857-4e10-dd6f-c1b340a28255"
      },
      "execution_count": 87,
      "outputs": [
        {
          "output_type": "execute_result",
          "data": {
            "text/plain": [
              "Empty DataFrame\n",
              "Columns: [Hours Studied, Previous Scores, Extracurricular Activities, Sleep Hours, Sample Question Papers Practiced, Performance Index]\n",
              "Index: []"
            ],
            "text/html": [
              "\n",
              "\n",
              "  <div id=\"df-7cfc89bb-ea24-4aac-8cca-5c8d81c19356\">\n",
              "    <div class=\"colab-df-container\">\n",
              "      <div>\n",
              "<style scoped>\n",
              "    .dataframe tbody tr th:only-of-type {\n",
              "        vertical-align: middle;\n",
              "    }\n",
              "\n",
              "    .dataframe tbody tr th {\n",
              "        vertical-align: top;\n",
              "    }\n",
              "\n",
              "    .dataframe thead th {\n",
              "        text-align: right;\n",
              "    }\n",
              "</style>\n",
              "<table border=\"1\" class=\"dataframe\">\n",
              "  <thead>\n",
              "    <tr style=\"text-align: right;\">\n",
              "      <th></th>\n",
              "      <th>Hours Studied</th>\n",
              "      <th>Previous Scores</th>\n",
              "      <th>Extracurricular Activities</th>\n",
              "      <th>Sleep Hours</th>\n",
              "      <th>Sample Question Papers Practiced</th>\n",
              "      <th>Performance Index</th>\n",
              "    </tr>\n",
              "  </thead>\n",
              "  <tbody>\n",
              "  </tbody>\n",
              "</table>\n",
              "</div>\n",
              "      <button class=\"colab-df-convert\" onclick=\"convertToInteractive('df-7cfc89bb-ea24-4aac-8cca-5c8d81c19356')\"\n",
              "              title=\"Convert this dataframe to an interactive table.\"\n",
              "              style=\"display:none;\">\n",
              "\n",
              "  <svg xmlns=\"http://www.w3.org/2000/svg\" height=\"24px\"viewBox=\"0 0 24 24\"\n",
              "       width=\"24px\">\n",
              "    <path d=\"M0 0h24v24H0V0z\" fill=\"none\"/>\n",
              "    <path d=\"M18.56 5.44l.94 2.06.94-2.06 2.06-.94-2.06-.94-.94-2.06-.94 2.06-2.06.94zm-11 1L8.5 8.5l.94-2.06 2.06-.94-2.06-.94L8.5 2.5l-.94 2.06-2.06.94zm10 10l.94 2.06.94-2.06 2.06-.94-2.06-.94-.94-2.06-.94 2.06-2.06.94z\"/><path d=\"M17.41 7.96l-1.37-1.37c-.4-.4-.92-.59-1.43-.59-.52 0-1.04.2-1.43.59L10.3 9.45l-7.72 7.72c-.78.78-.78 2.05 0 2.83L4 21.41c.39.39.9.59 1.41.59.51 0 1.02-.2 1.41-.59l7.78-7.78 2.81-2.81c.8-.78.8-2.07 0-2.86zM5.41 20L4 18.59l7.72-7.72 1.47 1.35L5.41 20z\"/>\n",
              "  </svg>\n",
              "      </button>\n",
              "\n",
              "\n",
              "\n",
              "    <div id=\"df-7545877a-a3de-4c5c-9bc2-7a94268545f6\">\n",
              "      <button class=\"colab-df-quickchart\" onclick=\"quickchart('df-7545877a-a3de-4c5c-9bc2-7a94268545f6')\"\n",
              "              title=\"Suggest charts.\"\n",
              "              style=\"display:none;\">\n",
              "\n",
              "<svg xmlns=\"http://www.w3.org/2000/svg\" height=\"24px\"viewBox=\"0 0 24 24\"\n",
              "     width=\"24px\">\n",
              "    <g>\n",
              "        <path d=\"M19 3H5c-1.1 0-2 .9-2 2v14c0 1.1.9 2 2 2h14c1.1 0 2-.9 2-2V5c0-1.1-.9-2-2-2zM9 17H7v-7h2v7zm4 0h-2V7h2v10zm4 0h-2v-4h2v4z\"/>\n",
              "    </g>\n",
              "</svg>\n",
              "      </button>\n",
              "    </div>\n",
              "\n",
              "<style>\n",
              "  .colab-df-quickchart {\n",
              "    background-color: #E8F0FE;\n",
              "    border: none;\n",
              "    border-radius: 50%;\n",
              "    cursor: pointer;\n",
              "    display: none;\n",
              "    fill: #1967D2;\n",
              "    height: 32px;\n",
              "    padding: 0 0 0 0;\n",
              "    width: 32px;\n",
              "  }\n",
              "\n",
              "  .colab-df-quickchart:hover {\n",
              "    background-color: #E2EBFA;\n",
              "    box-shadow: 0px 1px 2px rgba(60, 64, 67, 0.3), 0px 1px 3px 1px rgba(60, 64, 67, 0.15);\n",
              "    fill: #174EA6;\n",
              "  }\n",
              "\n",
              "  [theme=dark] .colab-df-quickchart {\n",
              "    background-color: #3B4455;\n",
              "    fill: #D2E3FC;\n",
              "  }\n",
              "\n",
              "  [theme=dark] .colab-df-quickchart:hover {\n",
              "    background-color: #434B5C;\n",
              "    box-shadow: 0px 1px 3px 1px rgba(0, 0, 0, 0.15);\n",
              "    filter: drop-shadow(0px 1px 2px rgba(0, 0, 0, 0.3));\n",
              "    fill: #FFFFFF;\n",
              "  }\n",
              "</style>\n",
              "\n",
              "    <script>\n",
              "      async function quickchart(key) {\n",
              "        const containerElement = document.querySelector('#' + key);\n",
              "        const charts = await google.colab.kernel.invokeFunction(\n",
              "            'suggestCharts', [key], {});\n",
              "      }\n",
              "    </script>\n",
              "\n",
              "      <script>\n",
              "\n",
              "function displayQuickchartButton(domScope) {\n",
              "  let quickchartButtonEl =\n",
              "    domScope.querySelector('#df-7545877a-a3de-4c5c-9bc2-7a94268545f6 button.colab-df-quickchart');\n",
              "  quickchartButtonEl.style.display =\n",
              "    google.colab.kernel.accessAllowed ? 'block' : 'none';\n",
              "}\n",
              "\n",
              "        displayQuickchartButton(document);\n",
              "      </script>\n",
              "      <style>\n",
              "    .colab-df-container {\n",
              "      display:flex;\n",
              "      flex-wrap:wrap;\n",
              "      gap: 12px;\n",
              "    }\n",
              "\n",
              "    .colab-df-convert {\n",
              "      background-color: #E8F0FE;\n",
              "      border: none;\n",
              "      border-radius: 50%;\n",
              "      cursor: pointer;\n",
              "      display: none;\n",
              "      fill: #1967D2;\n",
              "      height: 32px;\n",
              "      padding: 0 0 0 0;\n",
              "      width: 32px;\n",
              "    }\n",
              "\n",
              "    .colab-df-convert:hover {\n",
              "      background-color: #E2EBFA;\n",
              "      box-shadow: 0px 1px 2px rgba(60, 64, 67, 0.3), 0px 1px 3px 1px rgba(60, 64, 67, 0.15);\n",
              "      fill: #174EA6;\n",
              "    }\n",
              "\n",
              "    [theme=dark] .colab-df-convert {\n",
              "      background-color: #3B4455;\n",
              "      fill: #D2E3FC;\n",
              "    }\n",
              "\n",
              "    [theme=dark] .colab-df-convert:hover {\n",
              "      background-color: #434B5C;\n",
              "      box-shadow: 0px 1px 3px 1px rgba(0, 0, 0, 0.15);\n",
              "      filter: drop-shadow(0px 1px 2px rgba(0, 0, 0, 0.3));\n",
              "      fill: #FFFFFF;\n",
              "    }\n",
              "  </style>\n",
              "\n",
              "      <script>\n",
              "        const buttonEl =\n",
              "          document.querySelector('#df-7cfc89bb-ea24-4aac-8cca-5c8d81c19356 button.colab-df-convert');\n",
              "        buttonEl.style.display =\n",
              "          google.colab.kernel.accessAllowed ? 'block' : 'none';\n",
              "\n",
              "        async function convertToInteractive(key) {\n",
              "          const element = document.querySelector('#df-7cfc89bb-ea24-4aac-8cca-5c8d81c19356');\n",
              "          const dataTable =\n",
              "            await google.colab.kernel.invokeFunction('convertToInteractive',\n",
              "                                                     [key], {});\n",
              "          if (!dataTable) return;\n",
              "\n",
              "          const docLinkHtml = 'Like what you see? Visit the ' +\n",
              "            '<a target=\"_blank\" href=https://colab.research.google.com/notebooks/data_table.ipynb>data table notebook</a>'\n",
              "            + ' to learn more about interactive tables.';\n",
              "          element.innerHTML = '';\n",
              "          dataTable['output_type'] = 'display_data';\n",
              "          await google.colab.output.renderOutput(dataTable, element);\n",
              "          const docLink = document.createElement('div');\n",
              "          docLink.innerHTML = docLinkHtml;\n",
              "          element.appendChild(docLink);\n",
              "        }\n",
              "      </script>\n",
              "    </div>\n",
              "  </div>\n"
            ]
          },
          "metadata": {},
          "execution_count": 87
        }
      ]
    },
    {
      "cell_type": "code",
      "source": [
        "from sklearn.model_selection import train_test_split"
      ],
      "metadata": {
        "id": "sux-kRK2NED1"
      },
      "execution_count": 88,
      "outputs": []
    },
    {
      "cell_type": "code",
      "source": [
        "train,test = train_test_split(data,test_size=0.10,random_state=41)"
      ],
      "metadata": {
        "id": "hyTdFYqcQDS5"
      },
      "execution_count": 89,
      "outputs": []
    },
    {
      "cell_type": "code",
      "source": [
        "train"
      ],
      "metadata": {
        "id": "c_rk0SWARAW7",
        "colab": {
          "base_uri": "https://localhost:8080/",
          "height": 423
        },
        "outputId": "ab95df5a-598c-49d2-8965-024fd2ad209b"
      },
      "execution_count": 90,
      "outputs": [
        {
          "output_type": "execute_result",
          "data": {
            "text/plain": [
              "      Hours Studied  Previous Scores Extracurricular Activities  Sleep Hours  \\\n",
              "8593              7               85                         No            8   \n",
              "9658              9               92                        Yes            9   \n",
              "8408              1               78                         No            6   \n",
              "9717              8               43                         No            5   \n",
              "6814              2               76                         No            6   \n",
              "...             ...              ...                        ...          ...   \n",
              "8513              6               74                         No            7   \n",
              "5200              2               83                        Yes            8   \n",
              "4066              7               84                         No            4   \n",
              "931               9               69                        Yes            4   \n",
              "1984              6               43                        Yes            6   \n",
              "\n",
              "      Sample Question Papers Practiced  Performance Index  \n",
              "8593                                 5               76.0  \n",
              "9658                                 6               91.0  \n",
              "8408                                 9               50.0  \n",
              "9717                                 9               35.0  \n",
              "6814                                 1               53.0  \n",
              "...                                ...                ...  \n",
              "8513                                 6               65.0  \n",
              "5200                                 7               64.0  \n",
              "4066                                 3               75.0  \n",
              "931                                  6               67.0  \n",
              "1984                                 4               27.0  \n",
              "\n",
              "[9000 rows x 6 columns]"
            ],
            "text/html": [
              "\n",
              "\n",
              "  <div id=\"df-24e5387c-6426-47ef-8ce9-bdbde9bcbbf1\">\n",
              "    <div class=\"colab-df-container\">\n",
              "      <div>\n",
              "<style scoped>\n",
              "    .dataframe tbody tr th:only-of-type {\n",
              "        vertical-align: middle;\n",
              "    }\n",
              "\n",
              "    .dataframe tbody tr th {\n",
              "        vertical-align: top;\n",
              "    }\n",
              "\n",
              "    .dataframe thead th {\n",
              "        text-align: right;\n",
              "    }\n",
              "</style>\n",
              "<table border=\"1\" class=\"dataframe\">\n",
              "  <thead>\n",
              "    <tr style=\"text-align: right;\">\n",
              "      <th></th>\n",
              "      <th>Hours Studied</th>\n",
              "      <th>Previous Scores</th>\n",
              "      <th>Extracurricular Activities</th>\n",
              "      <th>Sleep Hours</th>\n",
              "      <th>Sample Question Papers Practiced</th>\n",
              "      <th>Performance Index</th>\n",
              "    </tr>\n",
              "  </thead>\n",
              "  <tbody>\n",
              "    <tr>\n",
              "      <th>8593</th>\n",
              "      <td>7</td>\n",
              "      <td>85</td>\n",
              "      <td>No</td>\n",
              "      <td>8</td>\n",
              "      <td>5</td>\n",
              "      <td>76.0</td>\n",
              "    </tr>\n",
              "    <tr>\n",
              "      <th>9658</th>\n",
              "      <td>9</td>\n",
              "      <td>92</td>\n",
              "      <td>Yes</td>\n",
              "      <td>9</td>\n",
              "      <td>6</td>\n",
              "      <td>91.0</td>\n",
              "    </tr>\n",
              "    <tr>\n",
              "      <th>8408</th>\n",
              "      <td>1</td>\n",
              "      <td>78</td>\n",
              "      <td>No</td>\n",
              "      <td>6</td>\n",
              "      <td>9</td>\n",
              "      <td>50.0</td>\n",
              "    </tr>\n",
              "    <tr>\n",
              "      <th>9717</th>\n",
              "      <td>8</td>\n",
              "      <td>43</td>\n",
              "      <td>No</td>\n",
              "      <td>5</td>\n",
              "      <td>9</td>\n",
              "      <td>35.0</td>\n",
              "    </tr>\n",
              "    <tr>\n",
              "      <th>6814</th>\n",
              "      <td>2</td>\n",
              "      <td>76</td>\n",
              "      <td>No</td>\n",
              "      <td>6</td>\n",
              "      <td>1</td>\n",
              "      <td>53.0</td>\n",
              "    </tr>\n",
              "    <tr>\n",
              "      <th>...</th>\n",
              "      <td>...</td>\n",
              "      <td>...</td>\n",
              "      <td>...</td>\n",
              "      <td>...</td>\n",
              "      <td>...</td>\n",
              "      <td>...</td>\n",
              "    </tr>\n",
              "    <tr>\n",
              "      <th>8513</th>\n",
              "      <td>6</td>\n",
              "      <td>74</td>\n",
              "      <td>No</td>\n",
              "      <td>7</td>\n",
              "      <td>6</td>\n",
              "      <td>65.0</td>\n",
              "    </tr>\n",
              "    <tr>\n",
              "      <th>5200</th>\n",
              "      <td>2</td>\n",
              "      <td>83</td>\n",
              "      <td>Yes</td>\n",
              "      <td>8</td>\n",
              "      <td>7</td>\n",
              "      <td>64.0</td>\n",
              "    </tr>\n",
              "    <tr>\n",
              "      <th>4066</th>\n",
              "      <td>7</td>\n",
              "      <td>84</td>\n",
              "      <td>No</td>\n",
              "      <td>4</td>\n",
              "      <td>3</td>\n",
              "      <td>75.0</td>\n",
              "    </tr>\n",
              "    <tr>\n",
              "      <th>931</th>\n",
              "      <td>9</td>\n",
              "      <td>69</td>\n",
              "      <td>Yes</td>\n",
              "      <td>4</td>\n",
              "      <td>6</td>\n",
              "      <td>67.0</td>\n",
              "    </tr>\n",
              "    <tr>\n",
              "      <th>1984</th>\n",
              "      <td>6</td>\n",
              "      <td>43</td>\n",
              "      <td>Yes</td>\n",
              "      <td>6</td>\n",
              "      <td>4</td>\n",
              "      <td>27.0</td>\n",
              "    </tr>\n",
              "  </tbody>\n",
              "</table>\n",
              "<p>9000 rows × 6 columns</p>\n",
              "</div>\n",
              "      <button class=\"colab-df-convert\" onclick=\"convertToInteractive('df-24e5387c-6426-47ef-8ce9-bdbde9bcbbf1')\"\n",
              "              title=\"Convert this dataframe to an interactive table.\"\n",
              "              style=\"display:none;\">\n",
              "\n",
              "  <svg xmlns=\"http://www.w3.org/2000/svg\" height=\"24px\"viewBox=\"0 0 24 24\"\n",
              "       width=\"24px\">\n",
              "    <path d=\"M0 0h24v24H0V0z\" fill=\"none\"/>\n",
              "    <path d=\"M18.56 5.44l.94 2.06.94-2.06 2.06-.94-2.06-.94-.94-2.06-.94 2.06-2.06.94zm-11 1L8.5 8.5l.94-2.06 2.06-.94-2.06-.94L8.5 2.5l-.94 2.06-2.06.94zm10 10l.94 2.06.94-2.06 2.06-.94-2.06-.94-.94-2.06-.94 2.06-2.06.94z\"/><path d=\"M17.41 7.96l-1.37-1.37c-.4-.4-.92-.59-1.43-.59-.52 0-1.04.2-1.43.59L10.3 9.45l-7.72 7.72c-.78.78-.78 2.05 0 2.83L4 21.41c.39.39.9.59 1.41.59.51 0 1.02-.2 1.41-.59l7.78-7.78 2.81-2.81c.8-.78.8-2.07 0-2.86zM5.41 20L4 18.59l7.72-7.72 1.47 1.35L5.41 20z\"/>\n",
              "  </svg>\n",
              "      </button>\n",
              "\n",
              "\n",
              "\n",
              "    <div id=\"df-188788e8-d05b-45d8-b5f1-2a1dca9c7a5b\">\n",
              "      <button class=\"colab-df-quickchart\" onclick=\"quickchart('df-188788e8-d05b-45d8-b5f1-2a1dca9c7a5b')\"\n",
              "              title=\"Suggest charts.\"\n",
              "              style=\"display:none;\">\n",
              "\n",
              "<svg xmlns=\"http://www.w3.org/2000/svg\" height=\"24px\"viewBox=\"0 0 24 24\"\n",
              "     width=\"24px\">\n",
              "    <g>\n",
              "        <path d=\"M19 3H5c-1.1 0-2 .9-2 2v14c0 1.1.9 2 2 2h14c1.1 0 2-.9 2-2V5c0-1.1-.9-2-2-2zM9 17H7v-7h2v7zm4 0h-2V7h2v10zm4 0h-2v-4h2v4z\"/>\n",
              "    </g>\n",
              "</svg>\n",
              "      </button>\n",
              "    </div>\n",
              "\n",
              "<style>\n",
              "  .colab-df-quickchart {\n",
              "    background-color: #E8F0FE;\n",
              "    border: none;\n",
              "    border-radius: 50%;\n",
              "    cursor: pointer;\n",
              "    display: none;\n",
              "    fill: #1967D2;\n",
              "    height: 32px;\n",
              "    padding: 0 0 0 0;\n",
              "    width: 32px;\n",
              "  }\n",
              "\n",
              "  .colab-df-quickchart:hover {\n",
              "    background-color: #E2EBFA;\n",
              "    box-shadow: 0px 1px 2px rgba(60, 64, 67, 0.3), 0px 1px 3px 1px rgba(60, 64, 67, 0.15);\n",
              "    fill: #174EA6;\n",
              "  }\n",
              "\n",
              "  [theme=dark] .colab-df-quickchart {\n",
              "    background-color: #3B4455;\n",
              "    fill: #D2E3FC;\n",
              "  }\n",
              "\n",
              "  [theme=dark] .colab-df-quickchart:hover {\n",
              "    background-color: #434B5C;\n",
              "    box-shadow: 0px 1px 3px 1px rgba(0, 0, 0, 0.15);\n",
              "    filter: drop-shadow(0px 1px 2px rgba(0, 0, 0, 0.3));\n",
              "    fill: #FFFFFF;\n",
              "  }\n",
              "</style>\n",
              "\n",
              "    <script>\n",
              "      async function quickchart(key) {\n",
              "        const containerElement = document.querySelector('#' + key);\n",
              "        const charts = await google.colab.kernel.invokeFunction(\n",
              "            'suggestCharts', [key], {});\n",
              "      }\n",
              "    </script>\n",
              "\n",
              "      <script>\n",
              "\n",
              "function displayQuickchartButton(domScope) {\n",
              "  let quickchartButtonEl =\n",
              "    domScope.querySelector('#df-188788e8-d05b-45d8-b5f1-2a1dca9c7a5b button.colab-df-quickchart');\n",
              "  quickchartButtonEl.style.display =\n",
              "    google.colab.kernel.accessAllowed ? 'block' : 'none';\n",
              "}\n",
              "\n",
              "        displayQuickchartButton(document);\n",
              "      </script>\n",
              "      <style>\n",
              "    .colab-df-container {\n",
              "      display:flex;\n",
              "      flex-wrap:wrap;\n",
              "      gap: 12px;\n",
              "    }\n",
              "\n",
              "    .colab-df-convert {\n",
              "      background-color: #E8F0FE;\n",
              "      border: none;\n",
              "      border-radius: 50%;\n",
              "      cursor: pointer;\n",
              "      display: none;\n",
              "      fill: #1967D2;\n",
              "      height: 32px;\n",
              "      padding: 0 0 0 0;\n",
              "      width: 32px;\n",
              "    }\n",
              "\n",
              "    .colab-df-convert:hover {\n",
              "      background-color: #E2EBFA;\n",
              "      box-shadow: 0px 1px 2px rgba(60, 64, 67, 0.3), 0px 1px 3px 1px rgba(60, 64, 67, 0.15);\n",
              "      fill: #174EA6;\n",
              "    }\n",
              "\n",
              "    [theme=dark] .colab-df-convert {\n",
              "      background-color: #3B4455;\n",
              "      fill: #D2E3FC;\n",
              "    }\n",
              "\n",
              "    [theme=dark] .colab-df-convert:hover {\n",
              "      background-color: #434B5C;\n",
              "      box-shadow: 0px 1px 3px 1px rgba(0, 0, 0, 0.15);\n",
              "      filter: drop-shadow(0px 1px 2px rgba(0, 0, 0, 0.3));\n",
              "      fill: #FFFFFF;\n",
              "    }\n",
              "  </style>\n",
              "\n",
              "      <script>\n",
              "        const buttonEl =\n",
              "          document.querySelector('#df-24e5387c-6426-47ef-8ce9-bdbde9bcbbf1 button.colab-df-convert');\n",
              "        buttonEl.style.display =\n",
              "          google.colab.kernel.accessAllowed ? 'block' : 'none';\n",
              "\n",
              "        async function convertToInteractive(key) {\n",
              "          const element = document.querySelector('#df-24e5387c-6426-47ef-8ce9-bdbde9bcbbf1');\n",
              "          const dataTable =\n",
              "            await google.colab.kernel.invokeFunction('convertToInteractive',\n",
              "                                                     [key], {});\n",
              "          if (!dataTable) return;\n",
              "\n",
              "          const docLinkHtml = 'Like what you see? Visit the ' +\n",
              "            '<a target=\"_blank\" href=https://colab.research.google.com/notebooks/data_table.ipynb>data table notebook</a>'\n",
              "            + ' to learn more about interactive tables.';\n",
              "          element.innerHTML = '';\n",
              "          dataTable['output_type'] = 'display_data';\n",
              "          await google.colab.output.renderOutput(dataTable, element);\n",
              "          const docLink = document.createElement('div');\n",
              "          docLink.innerHTML = docLinkHtml;\n",
              "          element.appendChild(docLink);\n",
              "        }\n",
              "      </script>\n",
              "    </div>\n",
              "  </div>\n"
            ]
          },
          "metadata": {},
          "execution_count": 90
        }
      ]
    },
    {
      "cell_type": "code",
      "source": [],
      "metadata": {
        "id": "zrjODXuAk_ty"
      },
      "execution_count": 90,
      "outputs": []
    },
    {
      "cell_type": "code",
      "source": [
        "train.corr()[\"Performance Index\"]"
      ],
      "metadata": {
        "id": "RzhXBRe3Utr1",
        "colab": {
          "base_uri": "https://localhost:8080/"
        },
        "outputId": "6514122f-674e-4968-ac8f-b2658cd91098"
      },
      "execution_count": 91,
      "outputs": [
        {
          "output_type": "stream",
          "name": "stderr",
          "text": [
            "<ipython-input-91-2494f3e13bfd>:1: FutureWarning: The default value of numeric_only in DataFrame.corr is deprecated. In a future version, it will default to False. Select only valid columns or specify the value of numeric_only to silence this warning.\n",
            "  train.corr()[\"Performance Index\"]\n"
          ]
        },
        {
          "output_type": "execute_result",
          "data": {
            "text/plain": [
              "Hours Studied                       0.376767\n",
              "Previous Scores                     0.914946\n",
              "Sleep Hours                         0.043416\n",
              "Sample Question Papers Practiced    0.045176\n",
              "Performance Index                   1.000000\n",
              "Name: Performance Index, dtype: float64"
            ]
          },
          "metadata": {},
          "execution_count": 91
        }
      ]
    },
    {
      "cell_type": "code",
      "source": [],
      "metadata": {
        "id": "JWNdg9CccBR7"
      },
      "execution_count": 91,
      "outputs": []
    },
    {
      "cell_type": "code",
      "source": [
        "test.corr()[\"Performance Index\"]"
      ],
      "metadata": {
        "id": "2Gz5-GngU50Y",
        "colab": {
          "base_uri": "https://localhost:8080/"
        },
        "outputId": "3e91d94f-2d2a-4155-8a34-097a6a1b7977"
      },
      "execution_count": 92,
      "outputs": [
        {
          "output_type": "stream",
          "name": "stderr",
          "text": [
            "<ipython-input-92-62170f03a90d>:1: FutureWarning: The default value of numeric_only in DataFrame.corr is deprecated. In a future version, it will default to False. Select only valid columns or specify the value of numeric_only to silence this warning.\n",
            "  test.corr()[\"Performance Index\"]\n"
          ]
        },
        {
          "output_type": "execute_result",
          "data": {
            "text/plain": [
              "Hours Studied                       0.344515\n",
              "Previous Scores                     0.917807\n",
              "Sleep Hours                         0.090609\n",
              "Sample Question Papers Practiced    0.022649\n",
              "Performance Index                   1.000000\n",
              "Name: Performance Index, dtype: float64"
            ]
          },
          "metadata": {},
          "execution_count": 92
        }
      ]
    },
    {
      "cell_type": "code",
      "source": [
        "from sklearn.linear_model import LinearRegression\n",
        "reg = LinearRegression()"
      ],
      "metadata": {
        "id": "njFkcnWWchw_"
      },
      "execution_count": 104,
      "outputs": []
    },
    {
      "cell_type": "code",
      "source": [
        "predictors = [\"Previous Scores\",\"Hours Studied\"]\n",
        "target = \"Performance Index\""
      ],
      "metadata": {
        "id": "q_89wjG-cxbJ"
      },
      "execution_count": 103,
      "outputs": []
    },
    {
      "cell_type": "code",
      "source": [
        "reg.fit(train[predictors],train[target])\n",
        "LinearRegression()"
      ],
      "metadata": {
        "colab": {
          "base_uri": "https://localhost:8080/",
          "height": 74
        },
        "id": "R4lrkZhIdDQD",
        "outputId": "83a1dd47-15c6-4d41-fe40-a536a922385d"
      },
      "execution_count": 102,
      "outputs": [
        {
          "output_type": "execute_result",
          "data": {
            "text/plain": [
              "LinearRegression()"
            ],
            "text/html": [
              "<style>#sk-container-id-3 {color: black;background-color: white;}#sk-container-id-3 pre{padding: 0;}#sk-container-id-3 div.sk-toggleable {background-color: white;}#sk-container-id-3 label.sk-toggleable__label {cursor: pointer;display: block;width: 100%;margin-bottom: 0;padding: 0.3em;box-sizing: border-box;text-align: center;}#sk-container-id-3 label.sk-toggleable__label-arrow:before {content: \"▸\";float: left;margin-right: 0.25em;color: #696969;}#sk-container-id-3 label.sk-toggleable__label-arrow:hover:before {color: black;}#sk-container-id-3 div.sk-estimator:hover label.sk-toggleable__label-arrow:before {color: black;}#sk-container-id-3 div.sk-toggleable__content {max-height: 0;max-width: 0;overflow: hidden;text-align: left;background-color: #f0f8ff;}#sk-container-id-3 div.sk-toggleable__content pre {margin: 0.2em;color: black;border-radius: 0.25em;background-color: #f0f8ff;}#sk-container-id-3 input.sk-toggleable__control:checked~div.sk-toggleable__content {max-height: 200px;max-width: 100%;overflow: auto;}#sk-container-id-3 input.sk-toggleable__control:checked~label.sk-toggleable__label-arrow:before {content: \"▾\";}#sk-container-id-3 div.sk-estimator input.sk-toggleable__control:checked~label.sk-toggleable__label {background-color: #d4ebff;}#sk-container-id-3 div.sk-label input.sk-toggleable__control:checked~label.sk-toggleable__label {background-color: #d4ebff;}#sk-container-id-3 input.sk-hidden--visually {border: 0;clip: rect(1px 1px 1px 1px);clip: rect(1px, 1px, 1px, 1px);height: 1px;margin: -1px;overflow: hidden;padding: 0;position: absolute;width: 1px;}#sk-container-id-3 div.sk-estimator {font-family: monospace;background-color: #f0f8ff;border: 1px dotted black;border-radius: 0.25em;box-sizing: border-box;margin-bottom: 0.5em;}#sk-container-id-3 div.sk-estimator:hover {background-color: #d4ebff;}#sk-container-id-3 div.sk-parallel-item::after {content: \"\";width: 100%;border-bottom: 1px solid gray;flex-grow: 1;}#sk-container-id-3 div.sk-label:hover label.sk-toggleable__label {background-color: #d4ebff;}#sk-container-id-3 div.sk-serial::before {content: \"\";position: absolute;border-left: 1px solid gray;box-sizing: border-box;top: 0;bottom: 0;left: 50%;z-index: 0;}#sk-container-id-3 div.sk-serial {display: flex;flex-direction: column;align-items: center;background-color: white;padding-right: 0.2em;padding-left: 0.2em;position: relative;}#sk-container-id-3 div.sk-item {position: relative;z-index: 1;}#sk-container-id-3 div.sk-parallel {display: flex;align-items: stretch;justify-content: center;background-color: white;position: relative;}#sk-container-id-3 div.sk-item::before, #sk-container-id-3 div.sk-parallel-item::before {content: \"\";position: absolute;border-left: 1px solid gray;box-sizing: border-box;top: 0;bottom: 0;left: 50%;z-index: -1;}#sk-container-id-3 div.sk-parallel-item {display: flex;flex-direction: column;z-index: 1;position: relative;background-color: white;}#sk-container-id-3 div.sk-parallel-item:first-child::after {align-self: flex-end;width: 50%;}#sk-container-id-3 div.sk-parallel-item:last-child::after {align-self: flex-start;width: 50%;}#sk-container-id-3 div.sk-parallel-item:only-child::after {width: 0;}#sk-container-id-3 div.sk-dashed-wrapped {border: 1px dashed gray;margin: 0 0.4em 0.5em 0.4em;box-sizing: border-box;padding-bottom: 0.4em;background-color: white;}#sk-container-id-3 div.sk-label label {font-family: monospace;font-weight: bold;display: inline-block;line-height: 1.2em;}#sk-container-id-3 div.sk-label-container {text-align: center;}#sk-container-id-3 div.sk-container {/* jupyter's `normalize.less` sets `[hidden] { display: none; }` but bootstrap.min.css set `[hidden] { display: none !important; }` so we also need the `!important` here to be able to override the default hidden behavior on the sphinx rendered scikit-learn.org. See: https://github.com/scikit-learn/scikit-learn/issues/21755 */display: inline-block !important;position: relative;}#sk-container-id-3 div.sk-text-repr-fallback {display: none;}</style><div id=\"sk-container-id-3\" class=\"sk-top-container\"><div class=\"sk-text-repr-fallback\"><pre>LinearRegression()</pre><b>In a Jupyter environment, please rerun this cell to show the HTML representation or trust the notebook. <br />On GitHub, the HTML representation is unable to render, please try loading this page with nbviewer.org.</b></div><div class=\"sk-container\" hidden><div class=\"sk-item\"><div class=\"sk-estimator sk-toggleable\"><input class=\"sk-toggleable__control sk-hidden--visually\" id=\"sk-estimator-id-3\" type=\"checkbox\" checked><label for=\"sk-estimator-id-3\" class=\"sk-toggleable__label sk-toggleable__label-arrow\">LinearRegression</label><div class=\"sk-toggleable__content\"><pre>LinearRegression()</pre></div></div></div></div></div>"
            ]
          },
          "metadata": {},
          "execution_count": 102
        }
      ]
    },
    {
      "cell_type": "code",
      "source": [
        "predictions = reg.predict(test[predictors])"
      ],
      "metadata": {
        "id": "c8aS1hnndQu2"
      },
      "execution_count": 101,
      "outputs": []
    },
    {
      "cell_type": "code",
      "source": [
        "predictions"
      ],
      "metadata": {
        "id": "kXaf1Np_dc6B",
        "colab": {
          "base_uri": "https://localhost:8080/"
        },
        "outputId": "be1f657f-3118-4156-bb0b-2022de702dbd"
      },
      "execution_count": 108,
      "outputs": [
        {
          "output_type": "execute_result",
          "data": {
            "text/plain": [
              "array([84.97263115, 64.98944133, 72.554019  , 17.69767841, 69.06402444,\n",
              "       71.73023607, 42.34003988, 34.04034236, 46.45895452, 40.30274833,\n",
              "       79.44534504, 47.04354306, 59.26729237, 67.80618427, 60.67566384,\n",
              "       49.08083461, 42.14517703, 31.56899358, 53.35028056, 63.97079556,\n",
              "       53.7843378 , 22.59604444, 82.74047675, 27.68927332, 13.81795816,\n",
              "       39.95735417, 79.44534504, 60.480801  , 53.19974926, 27.88413617,\n",
              "       58.44350944, 38.30978831, 37.92006262, 42.38437142, 55.23704081,\n",
              "       37.05194815, 30.9400735 , 52.57082918, 83.3250653 , 42.38437142,\n",
              "       50.29434324, 72.70455031, 30.9400735 , 60.71999538, 57.46919521,\n",
              "       26.04170747, 54.80298357, 49.47056031, 86.81505986, 83.13020245,\n",
              "       21.96712436, 56.64541228, 46.41462298, 23.41982737, 42.18950857,\n",
              "       46.06922883, 61.933504  , 39.28410255, 83.3250653 , 26.67062755,\n",
              "       61.69430962, 73.72319608, 36.8570853 , 44.81138866, 84.58290546,\n",
              "       38.50465116, 84.77776831, 42.18950857, 32.15358212, 89.67613434,\n",
              "       28.90278195, 79.68453943, 62.95214978, 62.12836685, 41.95031418,\n",
              "       67.46079012, 66.24728149, 71.88076738, 43.59788004, 73.33347039,\n",
              "       41.99464572, 55.38757212, 61.73864116, 44.18246858, 64.75024695,\n",
              "       78.23183642, 87.20478555, 62.36756124, 35.05898814, 69.25888728,\n",
              "       66.44214434, 41.56058849, 75.99968202, 58.44350944, 59.89621245,\n",
              "       34.43006806, 70.3218646 , 54.56378919, 57.46919521, 63.34187548,\n",
              "       94.76936322, 72.50968746, 39.52329694, 60.67566384, 30.5503478 ,\n",
              "       49.27569746, 58.2486466 , 31.17926788, 49.7097547 , 28.90278195,\n",
              "       81.48263659, 77.60291634, 36.03330238, 59.65701807, 22.98577014,\n",
              "       52.13677194, 61.15405262, 52.52649764, 65.76889272, 68.47943589,\n",
              "       96.80665477, 74.35211616, 82.11155667, 32.00305081, 20.94847859,\n",
              "       30.16062211, 48.49624607, 36.706554  , 76.38940771, 51.11812617,\n",
              "       41.75545134, 82.50128237, 74.35211616, 56.0164922 , 35.05898814,\n",
              "       15.85524971, 43.79274289, 65.57402987, 44.42166297, 59.65701807,\n",
              "       53.35028056, 44.61652582, 29.09764479, 72.50968746, 74.15725331,\n",
              "       41.75545134, 46.84868022, 68.82483005, 80.46399082, 60.67566384,\n",
              "       67.85051581, 45.87436598, 33.02169659, 88.22343133, 39.28410255,\n",
              "       50.72840047, 44.8557202 , 35.83843953, 62.75728693, 36.8570853 ,\n",
              "       42.57923426, 84.77776831, 22.4011816 , 86.81505986, 60.71999538,\n",
              "       68.28457305, 47.28273745, 51.98624063, 49.12516615, 24.82819884,\n",
              "       42.81842865, 70.3218646 , 72.89941315, 14.83660393, 20.75361574,\n",
              "       33.21655943, 36.22816522, 39.32843409, 75.60995632, 94.76936322,\n",
              "       44.22680012, 44.81138866, 41.75545134, 65.57402987, 38.93870839,\n",
              "       48.25705169, 29.14197633, 32.39277651, 87.20478555, 59.26729237,\n",
              "       50.09948039, 57.27433236, 51.74704625, 46.02489729, 24.82819884,\n",
              "       67.85051581, 36.46735961, 90.06586003, 77.60291634, 47.0878746 ,\n",
              "       37.72519977, 59.46215522, 39.13357124, 49.47056031, 77.64724788,\n",
              "       34.19087367, 35.44871383, 48.93030331, 77.21319064, 41.56058849,\n",
              "       43.83707443, 38.11492547, 69.25888728, 45.05058305, 51.74704625,\n",
              "       55.6267665 , 46.06922883, 74.3964477 , 80.89804805, 42.77409711,\n",
              "       81.48263659, 38.89437686, 17.89254126, 38.30978831, 45.63517159,\n",
              "       81.72183098, 70.27753306, 37.87573108, 66.44214434, 22.4011816 ,\n",
              "       17.69767841, 40.97599995, 23.41982737, 77.01832779, 44.18246858,\n",
              "       79.25048219, 58.2486466 , 61.69430962, 93.94558029, 68.43510435,\n",
              "       77.01832779, 69.06402444, 57.23000082, 53.54514341, 25.84684462,\n",
              "       19.92983281, 88.85235141, 56.21135504, 32.7825022 , 62.17269839,\n",
              "       41.3213941 , 53.00488641, 50.14381193, 27.06035324, 24.82819884,\n",
              "       84.97263115, 51.98624063, 81.91669383, 87.83370563, 25.84684462,\n",
              "       63.14701263, 75.41509348, 30.98440504, 44.8557202 , 69.88780736,\n",
              "       49.12516615, 32.7825022 , 61.30458392, 71.29617883, 29.09764479,\n",
              "       53.3946121 , 58.44350944, 38.50465116, 75.56562479, 84.34371107,\n",
              "       43.40301719, 29.72656487, 66.3978128 , 78.42669927, 41.17086279,\n",
              "       90.06586003, 64.59971564, 46.26409167, 80.26912797, 56.64541228,\n",
              "       73.33347039, 55.82162935, 67.61132143, 40.30274833, 26.67062755,\n",
              "       79.05561935, 44.22680012, 45.00625151, 83.3250653 , 85.99127693,\n",
              "       34.62493091, 69.06402444, 22.98577014, 61.49944677, 40.7811371 ,\n",
              "       33.60628513, 58.2486466 , 70.47239591, 33.21655943, 42.34003988,\n",
              "       53.54514341, 47.04354306, 45.05058305, 62.3232297 , 91.08450581,\n",
              "       54.41325788, 59.70134961, 17.89254126, 64.79457848, 20.94847859,\n",
              "       92.92693451, 87.83370563, 55.04217796, 20.94847859, 54.56378919,\n",
              "       74.59131055, 82.11155667, 83.3250653 , 50.72840047, 74.15725331,\n",
              "       56.0164922 , 33.41142228, 46.45895452, 69.30321882, 58.87756668,\n",
              "       48.30138322, 35.20951945, 75.60995632, 82.50128237, 47.4776003 ,\n",
              "       24.63333599, 48.69110892, 25.65198177, 47.4776003 , 67.41645858,\n",
              "       49.94894908, 95.78800899, 64.5553841 , 53.3946121 , 89.87099719,\n",
              "       59.50648676, 60.91485823, 24.43847315, 59.50648676, 60.91485823,\n",
              "       73.76752762, 65.61836141, 57.42486367, 56.60108074, 22.98577014,\n",
              "       31.13493634, 53.19974926, 37.05194815, 40.93166841, 87.20478555,\n",
              "       41.75545134, 47.0878746 , 47.67246314, 64.1656584 , 79.48967658,\n",
              "       73.57266477, 74.35211616, 47.4776003 , 40.93166841, 76.6286021 ,\n",
              "       83.13020245, 56.21135504, 68.04537866, 71.10131599, 66.59267565,\n",
              "       58.68270383, 70.27753306, 38.26545678, 39.95735417, 65.81322426,\n",
              "       13.81795816, 50.14381193, 26.28090185, 16.87389548, 50.92326332,\n",
              "       69.30321882, 68.43510435, 76.38940771, 30.98440504, 63.58106986,\n",
              "       82.54561391, 24.63333599, 56.64541228, 43.0132915 , 42.38437142,\n",
              "       61.54377831, 60.52513253, 69.49808167, 43.20815435, 35.0146566 ,\n",
              "       41.56058849, 69.06402444, 32.7825022 , 63.73160117, 70.3218646 ,\n",
              "       53.54514341, 17.89254126, 50.96759486, 30.16062211, 60.52513253,\n",
              "       50.29434324, 72.89941315, 68.47943589, 89.67613434, 70.90645314,\n",
              "       53.15541772, 46.26409167, 18.91118703, 38.07059393, 40.10788548,\n",
              "       77.21319064, 15.85524971, 63.34187548, 63.77593271, 45.2454459 ,\n",
              "       41.17086279, 69.69294452, 79.68453943, 55.58243496, 69.69294452,\n",
              "       69.88780736, 56.45054943, 31.95871927, 31.37413073, 25.26225608,\n",
              "       41.99464572, 43.79274289, 58.44350944, 55.23704081, 59.70134961,\n",
              "       80.46399082, 44.81138866, 71.68590453, 58.05378375, 65.81322426,\n",
              "       73.13860754, 85.36235685, 61.15405262, 38.69951401, 85.60155123,\n",
              "       74.3964477 , 27.49441047, 70.08267021, 62.56242409, 54.21839503,\n",
              "       56.40621789, 70.3218646 , 55.58243496, 72.31482461, 71.10131599,\n",
              "       51.74704625, 27.88413617, 48.45191453, 42.14517703, 36.03330238,\n",
              "       53.54514341, 40.30274833, 54.99784642, 62.12836685, 48.10652038,\n",
              "       42.38437142, 25.65198177, 59.31162391, 33.99601082, 43.83707443,\n",
              "       18.71632419, 68.04537866, 45.00625151, 46.06922883, 26.67062755,\n",
              "       56.21135504, 65.76889272, 38.26545678, 76.77913341, 70.8621216 ,\n",
              "       53.7843378 , 94.76936322, 81.28777375, 29.14197633, 39.13357124,\n",
              "       49.47056031, 28.07899902, 74.35211616, 51.11812617, 47.28273745,\n",
              "       75.76048763, 74.59131055, 89.87099719, 47.23840591, 46.41462298,\n",
              "       20.55875289, 20.55875289, 44.42166297, 50.29434324, 46.06922883,\n",
              "       36.03330238, 20.75361574, 45.87436598, 84.34371107, 31.56899358,\n",
              "       39.0892397 , 27.29954763, 54.36892634, 65.37916703, 62.71295539,\n",
              "       30.98440504, 47.23840591, 25.02306169, 31.56899358, 71.10131599,\n",
              "       43.0132915 , 21.77226151, 50.96759486, 24.82819884, 77.60291634,\n",
              "       45.63517159, 82.11155667, 20.55875289, 75.37076194, 62.95214978,\n",
              "       96.80665477, 39.52329694, 46.26409167, 29.92142772, 46.21976013,\n",
              "       31.13493634, 84.58290546, 47.86732599, 45.20111436, 76.77913341,\n",
              "       59.31162391, 63.53673832, 38.69951401, 63.73160117, 61.73864116,\n",
              "       44.61652582, 58.63837229, 19.92983281, 55.43190366, 29.09764479,\n",
              "       20.75361574, 38.50465116, 39.76249132, 79.25048219, 64.36052125,\n",
              "       65.81322426, 84.77776831, 64.75024695, 42.18950857, 42.77409711,\n",
              "       67.41645858, 50.33867478, 72.74888184, 84.58290546, 47.23840591,\n",
              "       59.70134961, 62.75728693, 41.75545134, 16.67903264, 48.10652038,\n",
              "       75.17589909, 44.81138866, 93.94558029, 46.41462298, 63.38620701,\n",
              "       77.40805349, 73.13860754, 67.80618427, 35.64357668, 43.16382281,\n",
              "       66.63700719, 77.64724788, 80.46399082, 83.13020245, 58.2486466 ,\n",
              "       79.68453943, 76.19454487, 58.44350944, 37.05194815, 77.21319064,\n",
              "       82.54561391, 62.36756124, 81.91669383, 88.65748856, 92.73207167,\n",
              "       32.19791366, 37.48600539, 58.29297814, 69.64861298, 79.44534504,\n",
              "       50.96759486, 41.56058849, 52.57082918, 30.5503478 , 68.47943589,\n",
              "       64.36052125, 19.73496996, 49.08083461, 44.61652582, 36.03330238,\n",
              "       39.76249132, 57.42486367, 86.18613978, 49.94894908, 70.71159029,\n",
              "       25.45711892, 46.84868022, 71.68590453, 35.05898814, 82.74047675,\n",
              "       49.94894908, 41.17086279, 66.3978128 , 61.15405262, 62.3232297 ,\n",
              "       53.97920065, 61.15405262, 89.67613434, 40.7811371 , 36.22816522,\n",
              "       82.9353396 , 41.36572564, 55.43190366, 60.52513253, 39.91302263,\n",
              "       34.19087367, 81.72183098, 43.0132915 , 63.77593271, 78.4710308 ,\n",
              "       59.65701807, 34.43006806, 30.9400735 , 36.22816522, 54.21839503,\n",
              "       75.99968202, 56.06082374, 61.54377831, 66.7875385 , 33.02169659,\n",
              "       60.33026969, 51.5521834 , 75.17589909, 64.36052125, 88.22343133,\n",
              "       71.53537322, 65.76889272, 74.3964477 , 73.13860754, 50.96759486,\n",
              "       79.44534504, 55.43190366, 45.05058305, 63.14701263, 63.53673832,\n",
              "       75.17589909, 36.8570853 , 72.74888184, 77.60291634, 81.91669383,\n",
              "       40.97599995, 80.46399082, 34.19087367, 40.73680556, 42.18950857,\n",
              "       58.44350944, 43.83707443, 78.66589365, 42.96895996, 54.17406349,\n",
              "       37.29114254, 32.39277651, 20.75361574, 38.50465116, 32.19791366,\n",
              "       57.07946951, 65.18430418, 43.0132915 , 33.1722279 , 37.72519977,\n",
              "       36.22816522, 31.76385643, 54.99784642, 84.58290546, 71.92509892,\n",
              "       79.68453943, 69.25888728, 45.05058305, 41.56058849, 77.01832779,\n",
              "       89.87099719, 83.13020245, 25.26225608, 31.37413073, 84.77776831,\n",
              "       76.43373925, 43.98760574, 52.57082918, 71.88076738, 75.41509348,\n",
              "       48.49624607, 66.00808711, 32.00305081, 65.76889272, 52.37596633,\n",
              "       58.05378375, 27.68927332, 27.68927332, 79.05561935, 31.56899358,\n",
              "       51.11812617, 27.06035324, 73.91805893, 73.91805893, 75.99968202,\n",
              "       48.06218884, 74.59131055, 57.42486367, 40.15221702, 43.35868565,\n",
              "       32.15358212, 65.37916703, 28.51305625, 36.8570853 , 63.19134417,\n",
              "       70.27753306, 70.51672744, 55.23704081, 73.52833323, 26.4757647 ,\n",
              "       36.22816522, 74.74184186, 82.50128237, 34.86412529, 46.21976013,\n",
              "       61.15405262, 86.62019701, 26.04170747, 56.0164922 , 48.69110892,\n",
              "       64.5553841 , 39.52329694, 26.86549039, 62.3232297 , 45.00625151,\n",
              "       64.79457848, 19.92983281, 79.48967658, 46.41462298, 62.17269839,\n",
              "       81.0929109 , 65.18430418, 74.54697901, 51.74704625, 80.07426512,\n",
              "       77.64724788, 64.59971564, 80.89804805, 51.98624063, 41.79978287,\n",
              "       61.34891546, 61.73864116, 73.13860754, 55.58243496, 55.43190366,\n",
              "       44.81138866, 77.21319064, 78.62156211, 74.35211616, 25.26225608,\n",
              "       65.61836141, 59.46215522, 43.16382281, 71.49104168, 34.86412529,\n",
              "       70.3218646 , 40.93166841, 47.91165753, 33.60628513, 38.30978831,\n",
              "       36.22816522, 71.53537322, 74.74184186, 54.60812073, 67.80618427,\n",
              "       48.45191453, 51.31298901, 89.87099719, 71.88076738, 80.89804805,\n",
              "       59.65701807, 66.3978128 , 52.33163479, 37.246811  , 35.0146566 ,\n",
              "       25.65198177, 34.04034236, 73.13860754, 27.29954763, 84.77776831,\n",
              "       24.43847315, 37.72519977, 62.75728693, 58.09811529, 41.95031418,\n",
              "       57.61972652, 70.51672744, 43.20815435, 24.00441591, 53.15541772,\n",
              "       32.58763935, 70.47239591, 69.88780736, 84.58290546, 80.46399082,\n",
              "       91.90828874, 65.81322426, 33.21655943, 32.19791366, 68.43510435,\n",
              "       33.1722279 , 33.41142228, 74.59131055, 47.0878746 , 61.69430962,\n",
              "       18.71632419, 37.87573108, 58.87756668, 85.99127693, 44.8557202 ,\n",
              "       58.68270383, 82.11155667, 35.0146566 , 53.7843378 , 61.34891546,\n",
              "       90.69478011, 20.94847859, 49.12516615, 85.79641408, 77.40805349,\n",
              "       59.50648676, 45.2454459 , 79.44534504, 43.40301719, 55.38757212,\n",
              "       43.20815435, 18.71632419, 30.35548495, 58.44350944, 37.09627969,\n",
              "       41.99464572, 20.55875289, 44.81138866, 52.57082918, 57.27433236,\n",
              "       43.83707443, 32.00305081, 63.97079556, 59.46215522, 47.86732599,\n",
              "       92.92693451, 74.35211616, 86.18613978, 77.84211072, 27.68927332,\n",
              "       34.43006806, 76.43373925, 40.97599995, 66.83187004, 59.26729237,\n",
              "       52.13677194, 70.27753306, 59.65701807, 49.27569746, 32.00305081,\n",
              "       38.11492547, 68.82483005, 31.76385643, 77.60291634, 44.42166297,\n",
              "       25.26225608, 58.09811529, 20.94847859, 44.42166297, 16.87389548,\n",
              "       38.11492547, 85.79641408, 20.75361574, 67.22159573, 51.11812617,\n",
              "       54.41325788, 31.37413073, 62.3232297 , 78.62156211, 29.14197633,\n",
              "       44.37733143, 65.57402987, 69.64861298, 70.51672744, 73.72319608,\n",
              "       48.88597177, 74.59131055, 38.69951401, 71.34051037, 58.2486466 ,\n",
              "       51.98624063, 75.76048763, 66.3978128 , 24.43847315, 32.97736505,\n",
              "       50.48920608, 86.81505986, 37.87573108, 24.00441591, 50.48920608,\n",
              "       38.11492547, 36.706554  , 47.4776003 , 92.92693451, 63.53673832,\n",
              "       61.30458392, 50.14381193, 38.69951401, 55.19270927, 32.58763935,\n",
              "       23.41982737, 29.09764479, 68.04537866, 67.41645858, 65.81322426,\n",
              "       56.40621789, 67.46079012, 46.65381737, 30.35548495, 35.20951945,\n",
              "       39.91302263, 57.61972652, 57.03513797, 33.02169659, 48.30138322,\n",
              "       69.64861298, 54.60812073, 40.15221702, 75.56562479, 76.38940771,\n",
              "       72.50968746, 65.57402987, 83.95398538, 40.10788548, 72.94374469,\n",
              "       44.81138866, 88.65748856, 33.60628513, 22.98577014, 13.81795816,\n",
              "       34.86412529, 69.06402444, 25.65198177, 80.07426512, 78.62156211,\n",
              "       88.85235141, 68.04537866, 64.40485279, 44.22680012, 78.4710308 ,\n",
              "       40.97599995, 20.94847859, 38.07059393, 77.64724788, 56.25568658,\n",
              "       41.36572564, 16.87389548, 75.80481917, 41.3213941 , 46.41462298,\n",
              "       73.33347039, 36.03330238, 33.99601082, 44.42166297, 22.59604444,\n",
              "       77.40805349, 78.8607565 , 71.68590453, 35.88277107, 59.89621245,\n",
              "       50.14381193, 27.49441047, 58.44350944, 73.76752762, 54.02353218])"
            ]
          },
          "metadata": {},
          "execution_count": 108
        }
      ]
    },
    {
      "cell_type": "code",
      "source": [
        "from sklearn.metrics import mean_absolute_error\n",
        "error = mean_absolute_error(test[\"Performance Index\"],predictions)"
      ],
      "metadata": {
        "id": "7xJK5by-dmFA"
      },
      "execution_count": 107,
      "outputs": []
    },
    {
      "cell_type": "code",
      "source": [
        "test[\"predictions\"]=predictions"
      ],
      "metadata": {
        "id": "CSwPikr4fQlm"
      },
      "execution_count": 106,
      "outputs": []
    },
    {
      "cell_type": "code",
      "source": [
        "error"
      ],
      "metadata": {
        "colab": {
          "base_uri": "https://localhost:8080/"
        },
        "id": "Qnt3nbOTegF9",
        "outputId": "c712ec34-3f04-46fc-87b2-87c6795b1115"
      },
      "execution_count": 105,
      "outputs": [
        {
          "output_type": "execute_result",
          "data": {
            "text/plain": [
              "1.845483626029342"
            ]
          },
          "metadata": {},
          "execution_count": 105
        }
      ]
    },
    {
      "cell_type": "code",
      "source": [
        "test[test[\"Performance Index\"]>60]"
      ],
      "metadata": {
        "colab": {
          "base_uri": "https://localhost:8080/",
          "height": 423
        },
        "id": "3dfSawpkfumK",
        "outputId": "aa186c79-233b-4854-cd43-b8ccf39e9fce"
      },
      "execution_count": null,
      "outputs": [
        {
          "output_type": "execute_result",
          "data": {
            "text/plain": [
              "      Hours Studied  Previous Scores Extracurricular Activities  Sleep Hours  \\\n",
              "9745              7               93                         No            6   \n",
              "4492              5               79                        Yes            4   \n",
              "3439              8               78                         No            8   \n",
              "5372              5               83                        Yes            8   \n",
              "8343              7               80                         No            6   \n",
              "...             ...              ...                        ...          ...   \n",
              "829               7               87                         No            5   \n",
              "2556              2               94                         No            8   \n",
              "1977              5               74                        Yes            8   \n",
              "2006              2               81                        Yes            7   \n",
              "458               7               82                         No            6   \n",
              "\n",
              "      Sample Question Papers Practiced  Performance Index  predictions  \n",
              "9745                                 2               84.0    84.972631  \n",
              "4492                                 6               67.0    64.989441  \n",
              "3439                                 7               72.0    72.554019  \n",
              "5372                                 9               71.0    69.064024  \n",
              "8343                                 9               68.0    71.730236  \n",
              "...                                ...                ...          ...  \n",
              "829                                  3               74.0    78.860756  \n",
              "2556                                 0               70.0    71.685905  \n",
              "1977                                 7               66.0    59.896212  \n",
              "2006                                 5               61.0    58.443509  \n",
              "458                                  3               72.0    73.767528  \n",
              "\n",
              "[402 rows x 7 columns]"
            ],
            "text/html": [
              "\n",
              "\n",
              "  <div id=\"df-a1edf3b8-9d27-4c6f-a89f-0ad40508a6be\">\n",
              "    <div class=\"colab-df-container\">\n",
              "      <div>\n",
              "<style scoped>\n",
              "    .dataframe tbody tr th:only-of-type {\n",
              "        vertical-align: middle;\n",
              "    }\n",
              "\n",
              "    .dataframe tbody tr th {\n",
              "        vertical-align: top;\n",
              "    }\n",
              "\n",
              "    .dataframe thead th {\n",
              "        text-align: right;\n",
              "    }\n",
              "</style>\n",
              "<table border=\"1\" class=\"dataframe\">\n",
              "  <thead>\n",
              "    <tr style=\"text-align: right;\">\n",
              "      <th></th>\n",
              "      <th>Hours Studied</th>\n",
              "      <th>Previous Scores</th>\n",
              "      <th>Extracurricular Activities</th>\n",
              "      <th>Sleep Hours</th>\n",
              "      <th>Sample Question Papers Practiced</th>\n",
              "      <th>Performance Index</th>\n",
              "      <th>predictions</th>\n",
              "    </tr>\n",
              "  </thead>\n",
              "  <tbody>\n",
              "    <tr>\n",
              "      <th>9745</th>\n",
              "      <td>7</td>\n",
              "      <td>93</td>\n",
              "      <td>No</td>\n",
              "      <td>6</td>\n",
              "      <td>2</td>\n",
              "      <td>84.0</td>\n",
              "      <td>84.972631</td>\n",
              "    </tr>\n",
              "    <tr>\n",
              "      <th>4492</th>\n",
              "      <td>5</td>\n",
              "      <td>79</td>\n",
              "      <td>Yes</td>\n",
              "      <td>4</td>\n",
              "      <td>6</td>\n",
              "      <td>67.0</td>\n",
              "      <td>64.989441</td>\n",
              "    </tr>\n",
              "    <tr>\n",
              "      <th>3439</th>\n",
              "      <td>8</td>\n",
              "      <td>78</td>\n",
              "      <td>No</td>\n",
              "      <td>8</td>\n",
              "      <td>7</td>\n",
              "      <td>72.0</td>\n",
              "      <td>72.554019</td>\n",
              "    </tr>\n",
              "    <tr>\n",
              "      <th>5372</th>\n",
              "      <td>5</td>\n",
              "      <td>83</td>\n",
              "      <td>Yes</td>\n",
              "      <td>8</td>\n",
              "      <td>9</td>\n",
              "      <td>71.0</td>\n",
              "      <td>69.064024</td>\n",
              "    </tr>\n",
              "    <tr>\n",
              "      <th>8343</th>\n",
              "      <td>7</td>\n",
              "      <td>80</td>\n",
              "      <td>No</td>\n",
              "      <td>6</td>\n",
              "      <td>9</td>\n",
              "      <td>68.0</td>\n",
              "      <td>71.730236</td>\n",
              "    </tr>\n",
              "    <tr>\n",
              "      <th>...</th>\n",
              "      <td>...</td>\n",
              "      <td>...</td>\n",
              "      <td>...</td>\n",
              "      <td>...</td>\n",
              "      <td>...</td>\n",
              "      <td>...</td>\n",
              "      <td>...</td>\n",
              "    </tr>\n",
              "    <tr>\n",
              "      <th>829</th>\n",
              "      <td>7</td>\n",
              "      <td>87</td>\n",
              "      <td>No</td>\n",
              "      <td>5</td>\n",
              "      <td>3</td>\n",
              "      <td>74.0</td>\n",
              "      <td>78.860756</td>\n",
              "    </tr>\n",
              "    <tr>\n",
              "      <th>2556</th>\n",
              "      <td>2</td>\n",
              "      <td>94</td>\n",
              "      <td>No</td>\n",
              "      <td>8</td>\n",
              "      <td>0</td>\n",
              "      <td>70.0</td>\n",
              "      <td>71.685905</td>\n",
              "    </tr>\n",
              "    <tr>\n",
              "      <th>1977</th>\n",
              "      <td>5</td>\n",
              "      <td>74</td>\n",
              "      <td>Yes</td>\n",
              "      <td>8</td>\n",
              "      <td>7</td>\n",
              "      <td>66.0</td>\n",
              "      <td>59.896212</td>\n",
              "    </tr>\n",
              "    <tr>\n",
              "      <th>2006</th>\n",
              "      <td>2</td>\n",
              "      <td>81</td>\n",
              "      <td>Yes</td>\n",
              "      <td>7</td>\n",
              "      <td>5</td>\n",
              "      <td>61.0</td>\n",
              "      <td>58.443509</td>\n",
              "    </tr>\n",
              "    <tr>\n",
              "      <th>458</th>\n",
              "      <td>7</td>\n",
              "      <td>82</td>\n",
              "      <td>No</td>\n",
              "      <td>6</td>\n",
              "      <td>3</td>\n",
              "      <td>72.0</td>\n",
              "      <td>73.767528</td>\n",
              "    </tr>\n",
              "  </tbody>\n",
              "</table>\n",
              "<p>402 rows × 7 columns</p>\n",
              "</div>\n",
              "      <button class=\"colab-df-convert\" onclick=\"convertToInteractive('df-a1edf3b8-9d27-4c6f-a89f-0ad40508a6be')\"\n",
              "              title=\"Convert this dataframe to an interactive table.\"\n",
              "              style=\"display:none;\">\n",
              "\n",
              "  <svg xmlns=\"http://www.w3.org/2000/svg\" height=\"24px\"viewBox=\"0 0 24 24\"\n",
              "       width=\"24px\">\n",
              "    <path d=\"M0 0h24v24H0V0z\" fill=\"none\"/>\n",
              "    <path d=\"M18.56 5.44l.94 2.06.94-2.06 2.06-.94-2.06-.94-.94-2.06-.94 2.06-2.06.94zm-11 1L8.5 8.5l.94-2.06 2.06-.94-2.06-.94L8.5 2.5l-.94 2.06-2.06.94zm10 10l.94 2.06.94-2.06 2.06-.94-2.06-.94-.94-2.06-.94 2.06-2.06.94z\"/><path d=\"M17.41 7.96l-1.37-1.37c-.4-.4-.92-.59-1.43-.59-.52 0-1.04.2-1.43.59L10.3 9.45l-7.72 7.72c-.78.78-.78 2.05 0 2.83L4 21.41c.39.39.9.59 1.41.59.51 0 1.02-.2 1.41-.59l7.78-7.78 2.81-2.81c.8-.78.8-2.07 0-2.86zM5.41 20L4 18.59l7.72-7.72 1.47 1.35L5.41 20z\"/>\n",
              "  </svg>\n",
              "      </button>\n",
              "\n",
              "\n",
              "\n",
              "    <div id=\"df-54b3ccd5-250f-4c07-be2f-a7937c0a33e8\">\n",
              "      <button class=\"colab-df-quickchart\" onclick=\"quickchart('df-54b3ccd5-250f-4c07-be2f-a7937c0a33e8')\"\n",
              "              title=\"Suggest charts.\"\n",
              "              style=\"display:none;\">\n",
              "\n",
              "<svg xmlns=\"http://www.w3.org/2000/svg\" height=\"24px\"viewBox=\"0 0 24 24\"\n",
              "     width=\"24px\">\n",
              "    <g>\n",
              "        <path d=\"M19 3H5c-1.1 0-2 .9-2 2v14c0 1.1.9 2 2 2h14c1.1 0 2-.9 2-2V5c0-1.1-.9-2-2-2zM9 17H7v-7h2v7zm4 0h-2V7h2v10zm4 0h-2v-4h2v4z\"/>\n",
              "    </g>\n",
              "</svg>\n",
              "      </button>\n",
              "    </div>\n",
              "\n",
              "<style>\n",
              "  .colab-df-quickchart {\n",
              "    background-color: #E8F0FE;\n",
              "    border: none;\n",
              "    border-radius: 50%;\n",
              "    cursor: pointer;\n",
              "    display: none;\n",
              "    fill: #1967D2;\n",
              "    height: 32px;\n",
              "    padding: 0 0 0 0;\n",
              "    width: 32px;\n",
              "  }\n",
              "\n",
              "  .colab-df-quickchart:hover {\n",
              "    background-color: #E2EBFA;\n",
              "    box-shadow: 0px 1px 2px rgba(60, 64, 67, 0.3), 0px 1px 3px 1px rgba(60, 64, 67, 0.15);\n",
              "    fill: #174EA6;\n",
              "  }\n",
              "\n",
              "  [theme=dark] .colab-df-quickchart {\n",
              "    background-color: #3B4455;\n",
              "    fill: #D2E3FC;\n",
              "  }\n",
              "\n",
              "  [theme=dark] .colab-df-quickchart:hover {\n",
              "    background-color: #434B5C;\n",
              "    box-shadow: 0px 1px 3px 1px rgba(0, 0, 0, 0.15);\n",
              "    filter: drop-shadow(0px 1px 2px rgba(0, 0, 0, 0.3));\n",
              "    fill: #FFFFFF;\n",
              "  }\n",
              "</style>\n",
              "\n",
              "    <script>\n",
              "      async function quickchart(key) {\n",
              "        const containerElement = document.querySelector('#' + key);\n",
              "        const charts = await google.colab.kernel.invokeFunction(\n",
              "            'suggestCharts', [key], {});\n",
              "      }\n",
              "    </script>\n",
              "\n",
              "      <script>\n",
              "\n",
              "function displayQuickchartButton(domScope) {\n",
              "  let quickchartButtonEl =\n",
              "    domScope.querySelector('#df-54b3ccd5-250f-4c07-be2f-a7937c0a33e8 button.colab-df-quickchart');\n",
              "  quickchartButtonEl.style.display =\n",
              "    google.colab.kernel.accessAllowed ? 'block' : 'none';\n",
              "}\n",
              "\n",
              "        displayQuickchartButton(document);\n",
              "      </script>\n",
              "      <style>\n",
              "    .colab-df-container {\n",
              "      display:flex;\n",
              "      flex-wrap:wrap;\n",
              "      gap: 12px;\n",
              "    }\n",
              "\n",
              "    .colab-df-convert {\n",
              "      background-color: #E8F0FE;\n",
              "      border: none;\n",
              "      border-radius: 50%;\n",
              "      cursor: pointer;\n",
              "      display: none;\n",
              "      fill: #1967D2;\n",
              "      height: 32px;\n",
              "      padding: 0 0 0 0;\n",
              "      width: 32px;\n",
              "    }\n",
              "\n",
              "    .colab-df-convert:hover {\n",
              "      background-color: #E2EBFA;\n",
              "      box-shadow: 0px 1px 2px rgba(60, 64, 67, 0.3), 0px 1px 3px 1px rgba(60, 64, 67, 0.15);\n",
              "      fill: #174EA6;\n",
              "    }\n",
              "\n",
              "    [theme=dark] .colab-df-convert {\n",
              "      background-color: #3B4455;\n",
              "      fill: #D2E3FC;\n",
              "    }\n",
              "\n",
              "    [theme=dark] .colab-df-convert:hover {\n",
              "      background-color: #434B5C;\n",
              "      box-shadow: 0px 1px 3px 1px rgba(0, 0, 0, 0.15);\n",
              "      filter: drop-shadow(0px 1px 2px rgba(0, 0, 0, 0.3));\n",
              "      fill: #FFFFFF;\n",
              "    }\n",
              "  </style>\n",
              "\n",
              "      <script>\n",
              "        const buttonEl =\n",
              "          document.querySelector('#df-a1edf3b8-9d27-4c6f-a89f-0ad40508a6be button.colab-df-convert');\n",
              "        buttonEl.style.display =\n",
              "          google.colab.kernel.accessAllowed ? 'block' : 'none';\n",
              "\n",
              "        async function convertToInteractive(key) {\n",
              "          const element = document.querySelector('#df-a1edf3b8-9d27-4c6f-a89f-0ad40508a6be');\n",
              "          const dataTable =\n",
              "            await google.colab.kernel.invokeFunction('convertToInteractive',\n",
              "                                                     [key], {});\n",
              "          if (!dataTable) return;\n",
              "\n",
              "          const docLinkHtml = 'Like what you see? Visit the ' +\n",
              "            '<a target=\"_blank\" href=https://colab.research.google.com/notebooks/data_table.ipynb>data table notebook</a>'\n",
              "            + ' to learn more about interactive tables.';\n",
              "          element.innerHTML = '';\n",
              "          dataTable['output_type'] = 'display_data';\n",
              "          await google.colab.output.renderOutput(dataTable, element);\n",
              "          const docLink = document.createElement('div');\n",
              "          docLink.innerHTML = docLinkHtml;\n",
              "          element.appendChild(docLink);\n",
              "        }\n",
              "      </script>\n",
              "    </div>\n",
              "  </div>\n"
            ]
          },
          "metadata": {},
          "execution_count": 52
        }
      ]
    },
    {
      "cell_type": "code",
      "source": [
        "errors = (test[\"Performance Index\"]-test[\"predictions\"]).abs()"
      ],
      "metadata": {
        "id": "4eh_46VqlBRK"
      },
      "execution_count": null,
      "outputs": []
    },
    {
      "cell_type": "code",
      "source": [],
      "metadata": {
        "id": "2Fim3CfhnUud"
      },
      "execution_count": null,
      "outputs": []
    },
    {
      "cell_type": "code",
      "source": [
        "errors"
      ],
      "metadata": {
        "colab": {
          "base_uri": "https://localhost:8080/"
        },
        "id": "iRNxH84ulQOj",
        "outputId": "2f16b2a0-9491-41e3-bc37-f9bcea5bec75"
      },
      "execution_count": null,
      "outputs": [
        {
          "output_type": "execute_result",
          "data": {
            "text/plain": [
              "9745    0.972631\n",
              "4492    2.010559\n",
              "3439    0.554019\n",
              "6077    0.697678\n",
              "5372    1.935976\n",
              "          ...   \n",
              "9112    1.856188\n",
              "1346    2.494410\n",
              "2006    2.556491\n",
              "458     1.767528\n",
              "5958    4.023532\n",
              "Length: 1000, dtype: float64"
            ]
          },
          "metadata": {},
          "execution_count": 54
        }
      ]
    },
    {
      "cell_type": "code",
      "source": [
        "error_by_hrs = errors.groupby(test[\"Hours Studied\"]).mean()"
      ],
      "metadata": {
        "id": "2pL4ZMH9lXja"
      },
      "execution_count": null,
      "outputs": []
    },
    {
      "cell_type": "code",
      "source": [
        "error_by_hrs"
      ],
      "metadata": {
        "colab": {
          "base_uri": "https://localhost:8080/"
        },
        "id": "79CAD3Jklo4k",
        "outputId": "861b9d86-db2d-4ea6-a878-efef673421b8"
      },
      "execution_count": null,
      "outputs": [
        {
          "output_type": "execute_result",
          "data": {
            "text/plain": [
              "Hours Studied\n",
              "1    1.801774\n",
              "2    1.768661\n",
              "3    1.812064\n",
              "4    1.665316\n",
              "5    1.673721\n",
              "6    1.927880\n",
              "7    2.186092\n",
              "8    1.932280\n",
              "9    1.892910\n",
              "dtype: float64"
            ]
          },
          "metadata": {},
          "execution_count": 69
        }
      ]
    },
    {
      "cell_type": "code",
      "source": [
        "score_on_hrs = test[\"Performance Index\"].groupby(test[\"Hours Studied\"]).mean()"
      ],
      "metadata": {
        "id": "rQ5hA6NFmLAZ"
      },
      "execution_count": null,
      "outputs": []
    },
    {
      "cell_type": "code",
      "source": [
        "accuracy=(1-(error_by_hrs/score_on_hrs))*100"
      ],
      "metadata": {
        "id": "cDNuPT73mowR"
      },
      "execution_count": null,
      "outputs": []
    },
    {
      "cell_type": "code",
      "source": [],
      "metadata": {
        "id": "VN4mrYkun6On"
      },
      "execution_count": null,
      "outputs": []
    },
    {
      "cell_type": "code",
      "source": [
        "accuracy"
      ],
      "metadata": {
        "colab": {
          "base_uri": "https://localhost:8080/"
        },
        "id": "ikvoYaVbmzaH",
        "outputId": "efb5e8f0-3475-42ec-ef0c-61c99ac611fc"
      },
      "execution_count": null,
      "outputs": [
        {
          "output_type": "execute_result",
          "data": {
            "text/plain": [
              "Hours Studied\n",
              "1    95.772011\n",
              "2    96.252565\n",
              "3    96.440916\n",
              "4    96.941087\n",
              "5    96.979833\n",
              "6    96.709255\n",
              "7    96.056121\n",
              "8    96.997763\n",
              "9    97.050431\n",
              "dtype: float64"
            ]
          },
          "metadata": {},
          "execution_count": 71
        }
      ]
    },
    {
      "cell_type": "code",
      "source": [
        "mean_accuracy= accuracy.mean()"
      ],
      "metadata": {
        "id": "BCIbXx6Rn65_"
      },
      "execution_count": null,
      "outputs": []
    },
    {
      "cell_type": "code",
      "source": [
        "mean_accuracy"
      ],
      "metadata": {
        "colab": {
          "base_uri": "https://localhost:8080/"
        },
        "id": "k58u35qOoIX-",
        "outputId": "25ac47c2-c918-41d2-c1b3-bdbb19447a7c"
      },
      "execution_count": null,
      "outputs": [
        {
          "output_type": "execute_result",
          "data": {
            "text/plain": [
              "96.5777757124478"
            ]
          },
          "metadata": {},
          "execution_count": 73
        }
      ]
    },
    {
      "cell_type": "code",
      "source": [
        "errors_by_prev=errors.groupby(test[\"Previous Scores\"]).mean()"
      ],
      "metadata": {
        "id": "H5q1Cv4urpCb"
      },
      "execution_count": null,
      "outputs": []
    },
    {
      "cell_type": "code",
      "source": [
        "score_on_prev= test[\"Performance Index\"].groupby(test[\"Previous Scores\"]).mean()"
      ],
      "metadata": {
        "id": "ZwZDHY9ksEgv"
      },
      "execution_count": null,
      "outputs": []
    },
    {
      "cell_type": "code",
      "source": [
        "accuracy2=(1-(errors_by_prev/score_on_prev))*100"
      ],
      "metadata": {
        "id": "LqRYHLh0sPPG"
      },
      "execution_count": null,
      "outputs": []
    },
    {
      "cell_type": "code",
      "source": [
        "mean_accuracy2=accuracy2.mean()"
      ],
      "metadata": {
        "id": "wWnXdB6ksZyO"
      },
      "execution_count": null,
      "outputs": []
    },
    {
      "cell_type": "code",
      "source": [
        "mean_accuracy"
      ],
      "metadata": {
        "colab": {
          "base_uri": "https://localhost:8080/"
        },
        "id": "mGgmkn3HseSs",
        "outputId": "c15f1d49-b6fd-4784-ab85-f1c197c9a71d"
      },
      "execution_count": null,
      "outputs": [
        {
          "output_type": "execute_result",
          "data": {
            "text/plain": [
              "96.5777757124478"
            ]
          },
          "metadata": {},
          "execution_count": 78
        }
      ]
    },
    {
      "cell_type": "code",
      "source": [
        "mean_accuracy2"
      ],
      "metadata": {
        "colab": {
          "base_uri": "https://localhost:8080/"
        },
        "id": "bw-aGzprsgmR",
        "outputId": "8f7c94bf-6f14-4255-9fc2-5eb1f208f133"
      },
      "execution_count": null,
      "outputs": [
        {
          "output_type": "execute_result",
          "data": {
            "text/plain": [
              "96.18790928145332"
            ]
          },
          "metadata": {},
          "execution_count": 79
        }
      ]
    },
    {
      "cell_type": "code",
      "source": [],
      "metadata": {
        "id": "jsfe_EOwszWn"
      },
      "execution_count": null,
      "outputs": []
    }
  ]
}